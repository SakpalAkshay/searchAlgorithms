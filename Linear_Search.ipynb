{
 "cells": [
  {
   "cell_type": "code",
   "execution_count": 8,
   "id": "935ca01c",
   "metadata": {},
   "outputs": [
    {
     "name": "stdout",
     "output_type": "stream",
     "text": [
      "enter number of elements: 5\n",
      "1\n",
      "2\n",
      "3\n",
      "4\n",
      "5\n",
      "Enter element you want to search: 7\n",
      "element doesn't exist\n"
     ]
    }
   ],
   "source": [
    "def linear_search(li, elem):\n",
    "    for i in range(len(li)):\n",
    "        if elem == li[i]:\n",
    "            print(\"Element found at index: \",i)\n",
    "            break\n",
    "    else:\n",
    "        print(\"element doesn't exist\")\n",
    "\n",
    "\n",
    "n = int(input(\"enter number of elements: \"))\n",
    "li =[]\n",
    "for i in range(n):\n",
    "    ele = int(input())\n",
    "    li.append(ele)\n",
    "elem = int(input(\"Enter element you want to search: \"))\n",
    "linear_search(li,elem)\n"
   ]
  },
  {
   "cell_type": "code",
   "execution_count": 1,
   "id": "60e6824c",
   "metadata": {},
   "outputs": [],
   "source": [
    "def linearSearch(arr,elem):\n",
    "    for i in range(len(arr)):\n",
    "        if(arr[i]==elem):\n",
    "            print(\"Element found at Index {}\".format(i))\n",
    "            break\n",
    "    else:\n",
    "        print(\"Element not found\")\n",
    "        \n",
    "        "
   ]
  },
  {
   "cell_type": "code",
   "execution_count": 3,
   "id": "0c44ccb7",
   "metadata": {},
   "outputs": [
    {
     "name": "stdout",
     "output_type": "stream",
     "text": [
      "Element not found\n"
     ]
    }
   ],
   "source": [
    "linearSearch([2,4,5,6,7,8,90,0,23],999)"
   ]
  },
  {
   "cell_type": "code",
   "execution_count": null,
   "id": "56e63269",
   "metadata": {},
   "outputs": [],
   "source": []
  }
 ],
 "metadata": {
  "kernelspec": {
   "display_name": "Python 3 (ipykernel)",
   "language": "python",
   "name": "python3"
  },
  "language_info": {
   "codemirror_mode": {
    "name": "ipython",
    "version": 3
   },
   "file_extension": ".py",
   "mimetype": "text/x-python",
   "name": "python",
   "nbconvert_exporter": "python",
   "pygments_lexer": "ipython3",
   "version": "3.9.13"
  }
 },
 "nbformat": 4,
 "nbformat_minor": 5
}
