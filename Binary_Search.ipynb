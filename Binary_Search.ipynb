{
 "cells": [
  {
   "cell_type": "code",
   "execution_count": 8,
   "id": "3e964de3",
   "metadata": {},
   "outputs": [
    {
     "name": "stdout",
     "output_type": "stream",
     "text": [
      "9\n",
      "Element 9 not found\n"
     ]
    }
   ],
   "source": [
    "li = [1,2,3,4,5]\n",
    "start = 0\n",
    "end = len(li)-1\n",
    "found = True\n",
    "ele = int(input())\n",
    "while start<=end:\n",
    "    mid = (start+end)//2\n",
    "    if li[mid]==ele:\n",
    "        print(\"element found at index\", mid)\n",
    "        found = False\n",
    "        break\n",
    "    elif ele>li[mid]:\n",
    "        start = mid+1\n",
    "    \n",
    "    else:\n",
    "        end = mid - 1\n",
    "\n",
    "        \n",
    "        \n",
    "        \n",
    "if found:\n",
    "    print(\"Element {d} not found\".format(d = ele))"
   ]
  },
  {
   "cell_type": "code",
   "execution_count": 14,
   "id": "88ae4add",
   "metadata": {},
   "outputs": [
    {
     "name": "stdout",
     "output_type": "stream",
     "text": [
      "1 2 3 0 7 6\n",
      "Given List:  [1, 2, 3, 0, 7, 6]\n",
      "Sorted list is : [0, 1, 2, 3, 6, 7]\n",
      "enter the element you want to search: 6\n",
      "4\n"
     ]
    }
   ],
   "source": [
    "def binarySearch(arr, element):\n",
    "    start = 0\n",
    "    end = len(arr) - 1\n",
    "    \n",
    "    while start<=end:\n",
    "        mid = (start+end)//2\n",
    "        if(element==arr[mid]):\n",
    "            return mid\n",
    "        elif (element>arr[mid]):\n",
    "            start = mid + 1\n",
    "        else:\n",
    "            end = mid - 1\n",
    "    \n",
    "    \n",
    "    return -1\n",
    "\n",
    "\n",
    "li = [int(x) for x in input.split()]\n",
    "print(\"Given List: \",li)\n",
    "li.sort()\n",
    "print(\"Sorted list is :\", li)\n",
    "element = int(input(\"enter the element you want to search: \"))\n",
    "index = binarySearch(li, element)\n",
    "print(index)\n",
    "\n"
   ]
  },
  {
   "cell_type": "code",
   "execution_count": 9,
   "id": "cd685942",
   "metadata": {},
   "outputs": [],
   "source": [
    "def binarySrch(arr,elem):\n",
    "    start = 0\n",
    "    end = len(arr) - 1\n",
    "    print(end)\n",
    "    while(start<=end):\n",
    "        mid = (start + end)//2\n",
    "        \n",
    "        if arr[mid]==elem:\n",
    "            return mid\n",
    "        elif arr[mid]<elem:\n",
    "            end = mid - 1\n",
    "        else:\n",
    "            start = mid + 1\n",
    "    return -1"
   ]
  },
  {
   "cell_type": "code",
   "execution_count": 10,
   "id": "c192bd00",
   "metadata": {},
   "outputs": [
    {
     "name": "stdout",
     "output_type": "stream",
     "text": [
      "6\n",
      "-1\n"
     ]
    }
   ],
   "source": [
    "print(binarySrch([1,2,3,4,5,7,8], 8))"
   ]
  },
  {
   "cell_type": "code",
   "execution_count": null,
   "id": "99ea0bba",
   "metadata": {},
   "outputs": [],
   "source": []
  }
 ],
 "metadata": {
  "kernelspec": {
   "display_name": "Python 3 (ipykernel)",
   "language": "python",
   "name": "python3"
  },
  "language_info": {
   "codemirror_mode": {
    "name": "ipython",
    "version": 3
   },
   "file_extension": ".py",
   "mimetype": "text/x-python",
   "name": "python",
   "nbconvert_exporter": "python",
   "pygments_lexer": "ipython3",
   "version": "3.9.13"
  }
 },
 "nbformat": 4,
 "nbformat_minor": 5
}
